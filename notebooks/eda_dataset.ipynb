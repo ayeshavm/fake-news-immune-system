{
 "cells": [
  {
   "cell_type": "markdown",
   "id": "ce003812",
   "metadata": {},
   "source": [
    "## Fake News using Artificial Immune Systems \n",
    "\n",
    "### Data\n",
    "\n",
    "✅ politifact_real.csv → real articles from Politifact \n",
    "\n",
    "✅ politifact_fake.csv → fake articles from Politifact\n",
    "\n",
    "✅ gossipcop_real.csv → real articles from GossipCop\n",
    "\n",
    "✅ gossipcop_fake.csv → fake articles from GossipCop\n",
    "\n",
    "### 📚 [References](https://github.com/KaiDMML/FakeNewsNet)\n",
    "\n",
    "- Shu, K., Mahudeswaran, D., Wang, S., Lee, D., & Liu, H. (2018). **FakeNewsNet: A Data Repository with News Content, Social Context and Dynamic Information for Studying Fake News on Social Media.** *arXiv preprint arXiv:1809.01286*. [arXiv link](https://arxiv.org/abs/1809.01286)\n",
    "\n",
    "- Shu, K., Sliva, A., Wang, S., Tang, J., & Liu, H. (2017). **Fake News Detection on Social Media: A Data Mining Perspective.** *ACM SIGKDD Explorations Newsletter*, 19(1), 22–36. [DOI](https://doi.org/10.1145/3137597.3137600)\n",
    "\n",
    "- Shu, K., Wang, S., & Liu, H. (2017). **Exploiting Tri-Relationship for Fake News Detection.** *arXiv preprint arXiv:1712.07709*. [arXiv link](https://arxiv.org/abs/1712.07709)\n",
    "✅ Includes "
   ]
  },
  {
   "cell_type": "code",
   "execution_count": 4,
   "id": "9f323bb8",
   "metadata": {},
   "outputs": [
    {
     "name": "stderr",
     "output_type": "stream",
     "text": [
      "Matplotlib is building the font cache; this may take a moment.\n"
     ]
    }
   ],
   "source": [
    "import pandas as pd\n",
    "import numpy as np\n",
    "import matplotlib.pyplot as plt\n",
    "import seaborn as sns\n",
    "import os"
   ]
  },
  {
   "cell_type": "code",
   "execution_count": 7,
   "id": "026fc813",
   "metadata": {},
   "outputs": [
    {
     "name": "stdout",
     "output_type": "stream",
     "text": [
      "Real news shape: (624, 4)\n",
      "Fake news shape: (432, 4)\n",
      "\n",
      "Sample real news article:\n",
      "id                                             politifact14984\n",
      "news_url                             http://www.nfib-sbet.org/\n",
      "title              National Federation of Independent Business\n",
      "tweet_ids    967132259869487105\\t967164368768196609\\t967215...\n",
      "Name: 0, dtype: object\n",
      "\n",
      "Sample fake news article:\n",
      "id                                             politifact15014\n",
      "news_url             speedtalk.com/forum/viewtopic.php?t=51650\n",
      "title        BREAKING: First NFL Team Declares Bankruptcy O...\n",
      "tweet_ids    937349434668498944\\t937379378006282240\\t937380...\n",
      "Name: 0, dtype: object\n"
     ]
    }
   ],
   "source": [
    "# Load real and fake from politifact\n",
    "basepath = \"/Users/ayeshamendoza/repos/fake-news-immune-system\"\n",
    "datapath = os.path.join(basepath, \"data/raw\")\n",
    "real = pd.read_csv(os.path.join(datapath, 'politifact_real.csv'))\n",
    "fake = pd.read_csv(os.path.join(datapath, 'politifact_fake.csv'))\n",
    "\n",
    "print(\"Real news shape:\", real.shape)\n",
    "print(\"Fake news shape:\", fake.shape)\n",
    "\n",
    "print(\"\\nSample real news article:\")\n",
    "print(real.iloc[0])\n",
    "\n",
    "print(\"\\nSample fake news article:\")\n",
    "print(fake.iloc[0])"
   ]
  },
  {
   "cell_type": "markdown",
   "id": "843e4e8f",
   "metadata": {},
   "source": [
    "Data Preprocessing\n",
    "\n",
    "In order to be able to use the text data in our Deep Learning models, we will need to convert the text data to numbers.  In order to do that the following pre-processing steps were done:\n",
    "\n",
    "- Tokenization\n",
    "- Stemming\n",
    "- removing stopwords\n",
    "- removing punctuations\n",
    "- TF-IDF"
   ]
  },
  {
   "cell_type": "code",
   "execution_count": null,
   "id": "4c22b3d3",
   "metadata": {},
   "outputs": [],
   "source": [
    "import pandas as pd\n",
    "import re\n",
    "import string\n",
    "from nltk.corpus import stopwords\n",
    "from nltk.stem import PorterStemmer\n",
    "from nltk.tokenize import word_tokenize\n",
    "from sklearn.feature_extraction.text import TfidfVectorizer\n",
    "\n",
    "# Download NLTK resources if not done\n",
    "# import nltk\n",
    "# nltk.download('stopwords')\n",
    "# nltk.download('punkt')\n",
    "\n",
    "# Define cleaning function\n",
    "from sklearn.feature_extraction.text import ENGLISH_STOP_WORDS\n",
    "from nltk.stem import PorterStemmer\n",
    "import string\n",
    "import re\n",
    "\n"
   ]
  },
  {
   "cell_type": "code",
   "execution_count": 34,
   "id": "fb866da6",
   "metadata": {},
   "outputs": [],
   "source": [
    "def clean_text(text):\n",
    "    stop_words = ENGLISH_STOP_WORDS\n",
    "    stemmer = PorterStemmer()\n",
    "\n",
    "    text = text.lower()\n",
    "    text = re.sub(r'\\.{2,}', ' ', text)              # remove ellipsis\n",
    "    text = re.sub(r'https?:\\/\\/.*[\\r\\n]*', '', text) # remove URLs\n",
    "    text = re.sub(r'\\$\\w*', '', text)                # remove $ mentions\n",
    "    text = re.sub(r'#', '', text)                    # remove hashtags\n",
    "    text = re.sub(f\"[{re.escape(string.punctuation)}]\", \" \", text)  # <-- remove punctuation\n",
    "\n",
    "    tokens = text.split()  # now safe to split on whitespace\n",
    "\n",
    "    cleaned_tokens = [\n",
    "        stemmer.stem(token)\n",
    "        for token in tokens\n",
    "        if token not in stop_words\n",
    "    ]\n",
    "\n",
    "    return ' '.join(cleaned_tokens)\n",
    "\n",
    "\n",
    "\n",
    "# Load dataset\n",
    "basepath = \"/Users/ayeshamendoza/repos/fake-news-immune-system\"\n",
    "datapath = os.path.join(basepath, \"data/raw\")\n",
    "real = pd.read_csv(os.path.join(datapath, 'politifact_real.csv'))\n",
    "fake = pd.read_csv(os.path.join(datapath, 'politifact_fake.csv'))\n",
    "\n",
    "# Add label columns\n",
    "real['label'] = 'REAL'\n",
    "fake['label'] = 'FAKE'\n",
    "\n",
    "# Combine datasets\n",
    "df = pd.concat([real, fake], ignore_index=True)\n",
    "\n"
   ]
  },
  {
   "cell_type": "markdown",
   "id": "33884fd3",
   "metadata": {},
   "source": []
  },
  {
   "cell_type": "code",
   "execution_count": 35,
   "id": "b61db820",
   "metadata": {},
   "outputs": [
    {
     "name": "stdout",
     "output_type": "stream",
     "text": [
      "  label                                         clean_text\n",
      "0  REAL                         nation feder independ busi\n",
      "1  REAL                              comment fayettevil nc\n",
      "2  REAL  romney make pitch hope close deal elect rocki ...\n",
      "3  REAL  democrat leader say hous democrat unit gop def...\n",
      "4  REAL                   budget unit state govern fy 2008\n",
      "TF-IDF matrix shape: (1056, 2740)\n"
     ]
    }
   ],
   "source": [
    "# Apply cleaning\n",
    "df['clean_text'] = df['title'].fillna('')\n",
    "df['clean_text'] = df['clean_text'].apply(clean_text)\n",
    "# df['clean_text'] = df['title'].fillna('').apply(clean_text)\n",
    "\n",
    "# OPTIONAL: Save cleaned dataset\n",
    "df.to_csv('../data/processed/cleaned_articles.csv', index=False)\n",
    "\n",
    "# Preview cleaned text\n",
    "print(df[['label', 'clean_text']].head())\n",
    "\n",
    "# ✅ TF-IDF Vectorizer\n",
    "vectorizer = TfidfVectorizer(max_features=5000)\n",
    "tfidf_matrix = vectorizer.fit_transform(df['clean_text'])\n",
    "\n",
    "print(\"TF-IDF matrix shape:\", tfidf_matrix.shape)\n"
   ]
  },
  {
   "cell_type": "code",
   "execution_count": 37,
   "id": "0e1f897e",
   "metadata": {},
   "outputs": [
    {
     "name": "stdout",
     "output_type": "stream",
     "text": [
      "Vocabulary size: 2610\n",
      "\n",
      "Sample vocab tokens:\n",
      "['nation', 'feder', 'independ', 'busi', 'comment', 'fayettevil', 'nc', 'romney', 'make', 'pitch', 'hope', 'close', 'deal', 'elect', 'rocki', 'mountain', 'news', 'democrat', 'leader', 'say']\n",
      "\n",
      "TF-IDF matrix shape: (1056, 2610)\n",
      "\n",
      "Top 10 tokens by IDF (most unique):\n",
      "abandon: 7.27\n",
      "abedin: 7.27\n",
      "abid: 7.27\n",
      "abortion: 7.27\n",
      "absorb: 7.27\n",
      "abus: 7.27\n",
      "achiev: 7.27\n",
      "acquir: 7.27\n",
      "activ: 7.27\n",
      "actuari: 7.27\n"
     ]
    }
   ],
   "source": [
    "from sklearn.feature_extraction.text import TfidfVectorizer\n",
    "\n",
    "\n",
    "# Fit TF-IDF\n",
    "# vectorizer = TfidfVectorizer(max_features=5000)  # limit vocab to top 5000 tokens\n",
    "vectorizer = TfidfVectorizer(\n",
    "    max_features=5000,\n",
    "    token_pattern=r'(?u)\\b[a-zA-Z]{2,}\\b'\n",
    ")\n",
    "tfidf_matrix = vectorizer.fit_transform(df['clean_text'])\n",
    "\n",
    "# Vocab size\n",
    "print(f\"Vocabulary size: {len(vectorizer.vocabulary_)}\")\n",
    "\n",
    "# Preview first 20 tokens in vocab\n",
    "print(\"\\nSample vocab tokens:\")\n",
    "sample_tokens = list(vectorizer.vocabulary_.keys())[:20]\n",
    "print(sample_tokens)\n",
    "\n",
    "# Show shape\n",
    "print(f\"\\nTF-IDF matrix shape: {tfidf_matrix.shape}\")\n",
    "\n",
    "# Show top tokens by IDF (most unique)\n",
    "idf_scores = vectorizer.idf_\n",
    "tokens_idf = sorted(zip(vectorizer.get_feature_names_out(), idf_scores), key=lambda x: -x[1])\n",
    "print(\"\\nTop 10 tokens by IDF (most unique):\")\n",
    "for token, idf in tokens_idf[:10]:\n",
    "    print(f\"{token}: {idf:.2f}\")\n"
   ]
  },
  {
   "cell_type": "code",
   "execution_count": 40,
   "id": "22e57e81",
   "metadata": {},
   "outputs": [
    {
     "data": {
      "text/plain": [
       "'/Users/ayeshamendoza/repos/fake-news-immune-system'"
      ]
     },
     "execution_count": 40,
     "metadata": {},
     "output_type": "execute_result"
    }
   ],
   "source": [
    "basepath"
   ]
  },
  {
   "cell_type": "code",
   "execution_count": 42,
   "id": "f1c14e30",
   "metadata": {},
   "outputs": [],
   "source": [
    "from scipy import sparse\n",
    "\n",
    "savepath = os.path.join(basepath, \"data/processed\")\n",
    "df.to_csv(os.path.join(savepath, \"clean_articles.csv\"), index=False)\n",
    "\n",
    "sparse.save_npz(os.path.join(savepath, \"tfidf_matrix.npz\"), tfidf_matrix)\n",
    "\n",
    "# Save vocab\n",
    "import pickle\n",
    "with open(os.path.join(savepath,'tfidf_vocab.pkl'), 'wb') as f:\n",
    "    pickle.dump(vectorizer.vocabulary_, f)"
   ]
  },
  {
   "cell_type": "code",
   "execution_count": 68,
   "id": "44b410f8",
   "metadata": {},
   "outputs": [
    {
     "name": "stdout",
     "output_type": "stream",
     "text": [
      "Generated 200 detectors in 200 tries\n",
      "Generated 200 detectors (requested 100)\n"
     ]
    }
   ],
   "source": [
    "import sys\n",
    "sys.path.append('../') \n",
    "import src.negative_selection\n",
    "import importlib\n",
    "importlib.reload(src.negative_selection)\n",
    "\n",
    "from src.negative_selection import generate_detectors\n",
    "from scipy import sparse\n",
    "\n",
    "# Load saved tfidf matrix\n",
    "self_matrix = sparse.load_npz(os.path.join(savepath, 'tfidf_matrix.npz'))\n",
    "\n",
    "vector_dim = self_matrix.shape[1]\n",
    "threshold = 0.8  # tweak threshold as needed\n",
    "num_detectors = 100\n",
    "\n",
    "# detectors = generate_detectors(num_detectors, vector_dim, self_matrix, threshold)\n",
    "detectors = generate_detectors(200, vector_dim, self_matrix, threshold)\n",
    "\n",
    "\n",
    "print(f\"Generated {len(detectors)} detectors (requested {num_detectors})\")"
   ]
  },
  {
   "cell_type": "code",
   "execution_count": 69,
   "id": "0d746b5f",
   "metadata": {},
   "outputs": [
    {
     "name": "stdout",
     "output_type": "stream",
     "text": [
      "(200, 2610)\n",
      "[0.73912526 0.25441294 0.55976498 0.8992857  0.6539311  0.9601236\n",
      " 0.0221988  0.13510258 0.56342094 0.94419133]\n"
     ]
    }
   ],
   "source": [
    "print(detectors.shape)  # should be (100, vector_dim)\n",
    "print(detectors[0][:10])  # first 10 values of first detector\n"
   ]
  },
  {
   "cell_type": "code",
   "execution_count": 70,
   "id": "b9c5592f",
   "metadata": {},
   "outputs": [
    {
     "data": {
      "image/png": "[encoded data removed]",
      "text/plain": [
       "<Figure size 640x480 with 1 Axes>"
      ]
     },
     "metadata": {},
     "output_type": "display_data"
    }
   ],
   "source": [
    "import matplotlib.pyplot as plt\n",
    "import numpy as np\n",
    "\n",
    "sample_detector = detectors[0]\n",
    "distances = np.linalg.norm(self_matrix.toarray() - sample_detector, axis=1)\n",
    "\n",
    "plt.hist(distances, bins=30)\n",
    "plt.xlabel('Distance to self')\n",
    "plt.ylabel('Count')\n",
    "plt.title('Distances from sample detector to self samples')\n",
    "plt.show()\n"
   ]
  },
  {
   "cell_type": "code",
   "execution_count": 71,
   "id": "e8f517dc",
   "metadata": {},
   "outputs": [],
   "source": [
    "import sys\n",
    "sys.path.append('../') \n",
    "\n",
    "import src.negative_selection\n",
    "import importlib\n",
    "importlib.reload(src.negative_selection)\n",
    "\n",
    "from src.negative_selection import detect_anomaly\n",
    "\n",
    "# # Pick sample article (convert sparse to dense row)\n",
    "# sample_article_vector = tfidf_matrix[0].toarray()[0]\n",
    "\n",
    "# result = detect_anomaly(sample_article_vector, detectors, threshold)\n",
    "\n",
    "# print(\"Article detected as FAKE\" if result else \"Article detected as REAL\")\n",
    "\n",
    "predictions = []\n",
    "\n",
    "for i in range(tfidf_matrix.shape[0]):\n",
    "    # Get article vector → convert sparse row to dense array\n",
    "    article_vector = tfidf_matrix[i].toarray()[0]\n",
    "    \n",
    "    # Run detection\n",
    "    detected = detect_anomaly(article_vector, detectors, threshold)\n",
    "    \n",
    "    # Map True/False → FAKE/REAL\n",
    "    predictions.append('FAKE' if detected else 'REAL')\n",
    "\n",
    "# Assign predictions to dataframe\n",
    "df['predicted_label'] = predictions\n"
   ]
  },
  {
   "cell_type": "code",
   "execution_count": 72,
   "id": "5039833d",
   "metadata": {},
   "outputs": [
    {
     "name": "stdout",
     "output_type": "stream",
     "text": [
      "Accuracy: 59.09%\n"
     ]
    }
   ],
   "source": [
    "accuracy = (df['label'] == df['predicted_label']).mean()\n",
    "print(f\"Accuracy: {accuracy:.2%}\")"
   ]
  },
  {
   "cell_type": "code",
   "execution_count": 73,
   "id": "5e10cdc7",
   "metadata": {},
   "outputs": [
    {
     "data": {
      "text/html": [
       "<div>\n",
       "<style scoped>\n",
       "    .dataframe tbody tr th:only-of-type {\n",
       "        vertical-align: middle;\n",
       "    }\n",
       "\n",
       "    .dataframe tbody tr th {\n",
       "        vertical-align: top;\n",
       "    }\n",
       "\n",
       "    .dataframe thead th {\n",
       "        text-align: right;\n",
       "    }\n",
       "</style>\n",
       "<table border=\"1\" class=\"dataframe\">\n",
       "  <thead>\n",
       "    <tr style=\"text-align: right;\">\n",
       "      <th></th>\n",
       "      <th>id</th>\n",
       "      <th>news_url</th>\n",
       "      <th>title</th>\n",
       "      <th>tweet_ids</th>\n",
       "      <th>clean_text</th>\n",
       "      <th>predicted_label</th>\n",
       "    </tr>\n",
       "    <tr>\n",
       "      <th>label</th>\n",
       "      <th></th>\n",
       "      <th></th>\n",
       "      <th></th>\n",
       "      <th></th>\n",
       "      <th></th>\n",
       "      <th></th>\n",
       "    </tr>\n",
       "  </thead>\n",
       "  <tbody>\n",
       "    <tr>\n",
       "      <th>FAKE</th>\n",
       "      <td>432</td>\n",
       "      <td>428</td>\n",
       "      <td>432</td>\n",
       "      <td>392</td>\n",
       "      <td>432</td>\n",
       "      <td>432</td>\n",
       "    </tr>\n",
       "    <tr>\n",
       "      <th>REAL</th>\n",
       "      <td>624</td>\n",
       "      <td>567</td>\n",
       "      <td>624</td>\n",
       "      <td>409</td>\n",
       "      <td>624</td>\n",
       "      <td>624</td>\n",
       "    </tr>\n",
       "  </tbody>\n",
       "</table>\n",
       "</div>"
      ],
      "text/plain": [
       "        id  news_url  title  tweet_ids  clean_text  predicted_label\n",
       "label                                                              \n",
       "FAKE   432       428    432        392         432              432\n",
       "REAL   624       567    624        409         624              624"
      ]
     },
     "execution_count": 73,
     "metadata": {},
     "output_type": "execute_result"
    }
   ],
   "source": [
    "df.groupby('label').count()"
   ]
  },
  {
   "cell_type": "code",
   "execution_count": 74,
   "id": "d0851d6c",
   "metadata": {},
   "outputs": [
    {
     "name": "stdout",
     "output_type": "stream",
     "text": [
      "Threshold 0.8: Accuracy 59.09%\n",
      "Threshold 0.7: Accuracy 59.09%\n",
      "Threshold 0.6: Accuracy 59.09%\n",
      "Threshold 0.5: Accuracy 59.09%\n"
     ]
    }
   ],
   "source": [
    "for t in [0.8, 0.7, 0.6, 0.5]:\n",
    "    preds = []\n",
    "    for i in range(tfidf_matrix.shape[0]):\n",
    "        article_vector = tfidf_matrix[i].toarray()[0]\n",
    "        detected = detect_anomaly(article_vector, detectors, t)\n",
    "        preds.append('FAKE' if detected else 'REAL')\n",
    "    acc = (df['label'] == preds).mean()\n",
    "    print(f\"Threshold {t}: Accuracy {acc:.2%}\")\n"
   ]
  },
  {
   "cell_type": "code",
   "execution_count": null,
   "id": "799b2021",
   "metadata": {},
   "outputs": [],
   "source": []
  }
 ],
 "metadata": {
  "kernelspec": {
   "display_name": "fake-news-immune-system-pOZ85LOU-py3.10",
   "language": "python",
   "name": "python3"
  },
  "language_info": {
   "codemirror_mode": {
    "name": "ipython",
    "version": 3
   },
   "file_extension": ".py",
   "mimetype": "text/x-python",
   "name": "python",
   "nbconvert_exporter": "python",
   "pygments_lexer": "ipython3",
   "version": "3.10.12"
  }
 },
 "nbformat": 4,
 "nbformat_minor": 5
}
